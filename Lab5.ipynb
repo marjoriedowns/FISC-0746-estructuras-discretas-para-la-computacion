{
  "nbformat": 4,
  "nbformat_minor": 0,
  "metadata": {
    "colab": {
      "name": "Lab5",
      "version": "0.3.2",
      "provenance": [],
      "include_colab_link": true
    },
    "kernelspec": {
      "name": "python3",
      "display_name": "Python 3"
    }
  },
  "cells": [
    {
      "cell_type": "markdown",
      "metadata": {
        "id": "view-in-github",
        "colab_type": "text"
      },
      "source": [
        "<a href=\"https://colab.research.google.com/github/marjoriedowns/FISC-0746-estructuras-discretas-para-la-computacion/blob/master/Lab5.ipynb\" target=\"_parent\"><img src=\"https://colab.research.google.com/assets/colab-badge.svg\" alt=\"Open In Colab\"/></a>"
      ]
    },
    {
      "cell_type": "markdown",
      "metadata": {
        "id": "jlPZ_VKZk4Zj",
        "colab_type": "text"
      },
      "source": [
        "My Way"
      ]
    },
    {
      "cell_type": "code",
      "metadata": {
        "id": "UfP9froAk22A",
        "colab_type": "code",
        "colab": {}
      },
      "source": [
        "n=8"
      ],
      "execution_count": 0,
      "outputs": []
    },
    {
      "cell_type": "code",
      "metadata": {
        "id": "UPd68S4dk8nq",
        "colab_type": "code",
        "colab": {}
      },
      "source": [
        "fact=1"
      ],
      "execution_count": 0,
      "outputs": []
    },
    {
      "cell_type": "code",
      "metadata": {
        "id": "OouqwBQck-hB",
        "colab_type": "code",
        "colab": {
          "base_uri": "https://localhost:8080/",
          "height": 34
        },
        "outputId": "5e669a5a-cd54-4564-fc09-0f2c636805b8"
      },
      "source": [
        "for i in range(1,n+1):\n",
        "  fact=fact*i\n",
        "print(\"factorial de \",n,\"es: \",fact)"
      ],
      "execution_count": 3,
      "outputs": [
        {
          "output_type": "stream",
          "text": [
            "factorial de  8 es:  40320\n"
          ],
          "name": "stdout"
        }
      ]
    },
    {
      "cell_type": "markdown",
      "metadata": {
        "id": "DUvs6f35lEMq",
        "colab_type": "text"
      },
      "source": [
        "Otra forma"
      ]
    },
    {
      "cell_type": "code",
      "metadata": {
        "id": "HiEpX9kylC5Z",
        "colab_type": "code",
        "colab": {}
      },
      "source": [
        "def factorial(z):\n",
        "  if z>1:\n",
        "    return z*factorial(z-1)\n",
        "  else:\n",
        "    return 1"
      ],
      "execution_count": 0,
      "outputs": []
    },
    {
      "cell_type": "code",
      "metadata": {
        "id": "E6av4JbtlJFq",
        "colab_type": "code",
        "colab": {
          "base_uri": "https://localhost:8080/",
          "height": 34
        },
        "outputId": "4c0d12f6-f806-4c1a-dee0-9d160972d0ea"
      },
      "source": [
        "factorial(3)"
      ],
      "execution_count": 5,
      "outputs": [
        {
          "output_type": "execute_result",
          "data": {
            "text/plain": [
              "6"
            ]
          },
          "metadata": {
            "tags": []
          },
          "execution_count": 5
        }
      ]
    },
    {
      "cell_type": "markdown",
      "metadata": {
        "id": "3XlDLhPwlLBK",
        "colab_type": "text"
      },
      "source": [
        "Combinaciones"
      ]
    },
    {
      "cell_type": "code",
      "metadata": {
        "id": "EpISh1xBlLdC",
        "colab_type": "code",
        "colab": {
          "base_uri": "https://localhost:8080/",
          "height": 34
        },
        "outputId": "008499d2-b830-4bc3-d263-41418c71d2c2"
      },
      "source": [
        "import itertools\n",
        "list (itertools.combinations(range(3),2))"
      ],
      "execution_count": 6,
      "outputs": [
        {
          "output_type": "execute_result",
          "data": {
            "text/plain": [
              "[(0, 1), (0, 2), (1, 2)]"
            ]
          },
          "metadata": {
            "tags": []
          },
          "execution_count": 6
        }
      ]
    },
    {
      "cell_type": "markdown",
      "metadata": {
        "id": "S-bMEpTJlQYa",
        "colab_type": "text"
      },
      "source": [
        "Combinaciones con remplazo"
      ]
    },
    {
      "cell_type": "code",
      "metadata": {
        "id": "pZMQAHdTlOr6",
        "colab_type": "code",
        "colab": {
          "base_uri": "https://localhost:8080/",
          "height": 34
        },
        "outputId": "f69ea760-2fe1-401c-847c-e459f8eafd6c"
      },
      "source": [
        "list (itertools.combinations_with_replacement(range(3),2))"
      ],
      "execution_count": 7,
      "outputs": [
        {
          "output_type": "execute_result",
          "data": {
            "text/plain": [
              "[(0, 0), (0, 1), (0, 2), (1, 1), (1, 2), (2, 2)]"
            ]
          },
          "metadata": {
            "tags": []
          },
          "execution_count": 7
        }
      ]
    },
    {
      "cell_type": "markdown",
      "metadata": {
        "id": "D1viXA2YlVBa",
        "colab_type": "text"
      },
      "source": [
        "Dado un numero de elementos A, B, C, queremos extraer todas las posibles parejas de dos elementos AA, AB, AC, etc"
      ]
    },
    {
      "cell_type": "code",
      "metadata": {
        "id": "TfCJT3DglXeC",
        "colab_type": "code",
        "colab": {
          "base_uri": "https://localhost:8080/",
          "height": 170
        },
        "outputId": "b3c6b204-3f88-44c9-d9b7-ae73cc63d3b5"
      },
      "source": [
        "c = itertools.product(('A','B','C'),repeat=2)\n",
        "list(c)"
      ],
      "execution_count": 10,
      "outputs": [
        {
          "output_type": "execute_result",
          "data": {
            "text/plain": [
              "[('A', 'A'),\n",
              " ('A', 'B'),\n",
              " ('A', 'C'),\n",
              " ('B', 'A'),\n",
              " ('B', 'B'),\n",
              " ('B', 'C'),\n",
              " ('C', 'A'),\n",
              " ('C', 'B'),\n",
              " ('C', 'C')]"
            ]
          },
          "metadata": {
            "tags": []
          },
          "execution_count": 10
        }
      ]
    },
    {
      "cell_type": "markdown",
      "metadata": {
        "id": "6PWcQaWTllkx",
        "colab_type": "text"
      },
      "source": [
        "Permutaciones"
      ]
    },
    {
      "cell_type": "code",
      "metadata": {
        "id": "yry_y5Hmlmty",
        "colab_type": "code",
        "colab": {
          "base_uri": "https://localhost:8080/",
          "height": 34
        },
        "outputId": "53cf861f-e5d2-4cb6-e597-fc2e3b31de57"
      },
      "source": [
        "c = itertools.permutations(('A','B','C'),2)\n",
        "list(c)"
      ],
      "execution_count": 11,
      "outputs": [
        {
          "output_type": "execute_result",
          "data": {
            "text/plain": [
              "[('A', 'B'), ('A', 'C'), ('B', 'A'), ('B', 'C'), ('C', 'A'), ('C', 'B')]"
            ]
          },
          "metadata": {
            "tags": []
          },
          "execution_count": 11
        }
      ]
    },
    {
      "cell_type": "code",
      "metadata": {
        "id": "2PpiThiSlvlj",
        "colab_type": "code",
        "colab": {
          "base_uri": "https://localhost:8080/",
          "height": 34
        },
        "outputId": "ef5828dd-4df4-4ccb-b74d-c856df9b1b1a"
      },
      "source": [
        "c = itertools.combinations(('A','B','C'),2)\n",
        "list(c)"
      ],
      "execution_count": 12,
      "outputs": [
        {
          "output_type": "execute_result",
          "data": {
            "text/plain": [
              "[('A', 'B'), ('A', 'C'), ('B', 'C')]"
            ]
          },
          "metadata": {
            "tags": []
          },
          "execution_count": 12
        }
      ]
    },
    {
      "cell_type": "markdown",
      "metadata": {
        "id": "C0BdH2eWl3xz",
        "colab_type": "text"
      },
      "source": [
        "# Tarea 02: Octavos de Final de la Champions League 2019\n",
        "¿Cuales son las posibles combinaciones de partidos? ¿Cuantas combinaciones?\n",
        "\n",
        "Equipos finalistas: Porto, Roma, Manchester City, Shalke04, Bayer, Liverpool, Manchester United, PSG, Juventus, Atletico de Madrid, Barcelona, Lyon"
      ]
    },
    {
      "cell_type": "code",
      "metadata": {
        "id": "MDWXn1gll478",
        "colab_type": "code",
        "colab": {
          "base_uri": "https://localhost:8080/",
          "height": 1139
        },
        "outputId": "27ddb223-7e0b-4c62-b188-d4ccd8725175"
      },
      "source": [
        "c=itertools.combinations(('Porto', 'Roma', 'Manchester City', 'Shalke04', 'Bayer', 'Liverpool', 'Manchester United', 'PSG', 'Juventus', 'Atletico de Madrid', 'Barcelona', 'Lyon'),2)\n",
        "list(c)"
      ],
      "execution_count": 14,
      "outputs": [
        {
          "output_type": "execute_result",
          "data": {
            "text/plain": [
              "[('Porto', 'Roma'),\n",
              " ('Porto', 'Manchester City'),\n",
              " ('Porto', 'Shalke04'),\n",
              " ('Porto', 'Bayer'),\n",
              " ('Porto', 'Liverpool'),\n",
              " ('Porto', 'Manchester United'),\n",
              " ('Porto', 'PSG'),\n",
              " ('Porto', 'Juventus'),\n",
              " ('Porto', 'Atletico de Madrid'),\n",
              " ('Porto', 'Barcelona'),\n",
              " ('Porto', 'Lyon'),\n",
              " ('Roma', 'Manchester City'),\n",
              " ('Roma', 'Shalke04'),\n",
              " ('Roma', 'Bayer'),\n",
              " ('Roma', 'Liverpool'),\n",
              " ('Roma', 'Manchester United'),\n",
              " ('Roma', 'PSG'),\n",
              " ('Roma', 'Juventus'),\n",
              " ('Roma', 'Atletico de Madrid'),\n",
              " ('Roma', 'Barcelona'),\n",
              " ('Roma', 'Lyon'),\n",
              " ('Manchester City', 'Shalke04'),\n",
              " ('Manchester City', 'Bayer'),\n",
              " ('Manchester City', 'Liverpool'),\n",
              " ('Manchester City', 'Manchester United'),\n",
              " ('Manchester City', 'PSG'),\n",
              " ('Manchester City', 'Juventus'),\n",
              " ('Manchester City', 'Atletico de Madrid'),\n",
              " ('Manchester City', 'Barcelona'),\n",
              " ('Manchester City', 'Lyon'),\n",
              " ('Shalke04', 'Bayer'),\n",
              " ('Shalke04', 'Liverpool'),\n",
              " ('Shalke04', 'Manchester United'),\n",
              " ('Shalke04', 'PSG'),\n",
              " ('Shalke04', 'Juventus'),\n",
              " ('Shalke04', 'Atletico de Madrid'),\n",
              " ('Shalke04', 'Barcelona'),\n",
              " ('Shalke04', 'Lyon'),\n",
              " ('Bayer', 'Liverpool'),\n",
              " ('Bayer', 'Manchester United'),\n",
              " ('Bayer', 'PSG'),\n",
              " ('Bayer', 'Juventus'),\n",
              " ('Bayer', 'Atletico de Madrid'),\n",
              " ('Bayer', 'Barcelona'),\n",
              " ('Bayer', 'Lyon'),\n",
              " ('Liverpool', 'Manchester United'),\n",
              " ('Liverpool', 'PSG'),\n",
              " ('Liverpool', 'Juventus'),\n",
              " ('Liverpool', 'Atletico de Madrid'),\n",
              " ('Liverpool', 'Barcelona'),\n",
              " ('Liverpool', 'Lyon'),\n",
              " ('Manchester United', 'PSG'),\n",
              " ('Manchester United', 'Juventus'),\n",
              " ('Manchester United', 'Atletico de Madrid'),\n",
              " ('Manchester United', 'Barcelona'),\n",
              " ('Manchester United', 'Lyon'),\n",
              " ('PSG', 'Juventus'),\n",
              " ('PSG', 'Atletico de Madrid'),\n",
              " ('PSG', 'Barcelona'),\n",
              " ('PSG', 'Lyon'),\n",
              " ('Juventus', 'Atletico de Madrid'),\n",
              " ('Juventus', 'Barcelona'),\n",
              " ('Juventus', 'Lyon'),\n",
              " ('Atletico de Madrid', 'Barcelona'),\n",
              " ('Atletico de Madrid', 'Lyon'),\n",
              " ('Barcelona', 'Lyon')]"
            ]
          },
          "metadata": {
            "tags": []
          },
          "execution_count": 14
        }
      ]
    },
    {
      "cell_type": "code",
      "metadata": {
        "id": "zwc2yR3qmUDb",
        "colab_type": "code",
        "colab": {
          "base_uri": "https://localhost:8080/",
          "height": 34
        },
        "outputId": "d65857fb-b266-413d-87f2-d4cac358234d"
      },
      "source": [
        "len(list(itertools.combinations(('Porto', 'Roma', 'Manchester City', 'Shalke04', 'Bayer', 'Liverpool', 'Manchester United', 'PSG', 'Juventus', 'Atletico de Madrid', 'Barcelona', 'Lyon'),2)))"
      ],
      "execution_count": 15,
      "outputs": [
        {
          "output_type": "execute_result",
          "data": {
            "text/plain": [
              "66"
            ]
          },
          "metadata": {
            "tags": []
          },
          "execution_count": 15
        }
      ]
    }
  ]
}