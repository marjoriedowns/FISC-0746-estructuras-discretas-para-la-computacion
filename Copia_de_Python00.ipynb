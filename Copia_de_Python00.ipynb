{
  "nbformat": 4,
  "nbformat_minor": 0,
  "metadata": {
    "colab": {
      "name": "Copia de Python00.ipynb",
      "version": "0.3.2",
      "provenance": []
    },
    "kernelspec": {
      "name": "python3",
      "display_name": "Python 3"
    }
  },
  "cells": [
    {
      "metadata": {
        "id": "_gmZI7D4giEZ",
        "colab_type": "text"
      },
      "cell_type": "markdown",
      "source": [
        "#UNIVERSIDAD TECNOLÓGICA DE PANAMÁ\n",
        "##FACULTAD DE INGENIERÍA DE SISTEMAS COMPUTACIONALES\n",
        "##DEPARTAMENTO DE COMPUTACIÓN Y SIMULACIÓN DE SISTEMAS\n",
        "\n",
        "##ESTRUCTURAS DISCRETAS PARA LA COMPUTACIÓN\n",
        "\n",
        "## Profesor: Ezequiel Aguilar González\n",
        "\n"
      ]
    },
    {
      "metadata": {
        "id": "vw1HIU8zg86M",
        "colab_type": "text"
      },
      "cell_type": "markdown",
      "source": [
        "##Python Básico"
      ]
    },
    {
      "metadata": {
        "id": "0ShgKNo4go2E",
        "colab_type": "code",
        "outputId": "422d3fec-9ae1-4bd8-c572-cdfc23259ab2",
        "colab": {
          "base_uri": "https://localhost:8080/",
          "height": 51
        }
      },
      "cell_type": "code",
      "source": [
        "import sys\n",
        "print(sys.version)"
      ],
      "execution_count": 1,
      "outputs": [
        {
          "output_type": "stream",
          "text": [
            "3.6.7 (default, Oct 22 2018, 11:32:17) \n",
            "[GCC 8.2.0]\n"
          ],
          "name": "stdout"
        }
      ]
    },
    {
      "metadata": {
        "id": "kdxbpIfDhWP3",
        "colab_type": "code",
        "outputId": "2074a9cc-944c-49ce-a8d9-23cb447fb41e",
        "colab": {
          "base_uri": "https://localhost:8080/",
          "height": 34
        }
      },
      "cell_type": "code",
      "source": [
        "2+8"
      ],
      "execution_count": 7,
      "outputs": [
        {
          "output_type": "execute_result",
          "data": {
            "text/plain": [
              "10"
            ]
          },
          "metadata": {
            "tags": []
          },
          "execution_count": 7
        }
      ]
    },
    {
      "metadata": {
        "id": "zZXBYUaAhYcs",
        "colab_type": "code",
        "outputId": "52c3b636-ab40-4bef-ee49-6301f2c20edd",
        "colab": {
          "base_uri": "https://localhost:8080/",
          "height": 34
        }
      },
      "cell_type": "code",
      "source": [
        "10/4"
      ],
      "execution_count": 3,
      "outputs": [
        {
          "output_type": "execute_result",
          "data": {
            "text/plain": [
              "2.5"
            ]
          },
          "metadata": {
            "tags": []
          },
          "execution_count": 3
        }
      ]
    },
    {
      "metadata": {
        "id": "UKxPHc6xhjJ6",
        "colab_type": "text"
      },
      "cell_type": "markdown",
      "source": [
        "###Asignación: Imprimir 2 elevado a 128"
      ]
    },
    {
      "metadata": {
        "id": "4SBiPnu-hcTo",
        "colab_type": "code",
        "colab": {
          "base_uri": "https://localhost:8080/",
          "height": 34
        },
        "outputId": "cf0ac05d-17b0-43bf-a244-e54958c8f2ef"
      },
      "cell_type": "code",
      "source": [
        "2**128"
      ],
      "execution_count": 8,
      "outputs": [
        {
          "output_type": "execute_result",
          "data": {
            "text/plain": [
              "340282366920938463463374607431768211456"
            ]
          },
          "metadata": {
            "tags": []
          },
          "execution_count": 8
        }
      ]
    },
    {
      "metadata": {
        "id": "VYWPjkqJheVO",
        "colab_type": "code",
        "outputId": "e6a121ad-cf99-4aa7-e8e8-767f98a48ae7",
        "colab": {
          "base_uri": "https://localhost:8080/",
          "height": 34
        }
      },
      "cell_type": "code",
      "source": [
        "from math import factorial\n",
        "factorial(5)"
      ],
      "execution_count": 10,
      "outputs": [
        {
          "output_type": "execute_result",
          "data": {
            "text/plain": [
              "120"
            ]
          },
          "metadata": {
            "tags": []
          },
          "execution_count": 10
        }
      ]
    },
    {
      "metadata": {
        "id": "1EpcyXd4iTfw",
        "colab_type": "code",
        "colab": {}
      },
      "cell_type": "code",
      "source": [
        "n = 3  # numero entero\n",
        "lugar_de_nacimiento = \"Escribir lugar de nacimiento\"  # lugar de nacimiento\n",
        "colaborador = {\n",
        "  'edad': 45,\n",
        "  'puesto': 'CTO',\n",
        "  'cedula': '3-88-3093',\n",
        "}\n",
        "\n"
      ],
      "execution_count": 0,
      "outputs": []
    },
    {
      "metadata": {
        "id": "W1YKfeIFjBVK",
        "colab_type": "text"
      },
      "cell_type": "markdown",
      "source": [
        "### Asignación: Imprimir n"
      ]
    },
    {
      "metadata": {
        "id": "qL9LFpNRjHvq",
        "colab_type": "code",
        "colab": {
          "base_uri": "https://localhost:8080/",
          "height": 34
        },
        "outputId": "6b6b6a7a-5ddc-47d8-d766-f1dac64eb2cb"
      },
      "cell_type": "code",
      "source": [
        "print(n)"
      ],
      "execution_count": 11,
      "outputs": [
        {
          "output_type": "stream",
          "text": [
            "3\n"
          ],
          "name": "stdout"
        }
      ]
    },
    {
      "metadata": {
        "id": "DqnSBF0BjIwm",
        "colab_type": "text"
      },
      "cell_type": "markdown",
      "source": [
        "### Asignación: Imprimir lugar_de_nacimiento"
      ]
    },
    {
      "metadata": {
        "id": "9wrgnPT6jNLA",
        "colab_type": "code",
        "colab": {
          "base_uri": "https://localhost:8080/",
          "height": 34
        },
        "outputId": "a0fba4dc-b744-4b4e-c9c4-3da545203681"
      },
      "cell_type": "code",
      "source": [
        "lugar_de_nacimiento"
      ],
      "execution_count": 12,
      "outputs": [
        {
          "output_type": "execute_result",
          "data": {
            "text/plain": [
              "'Escribir lugar de nacimiento'"
            ]
          },
          "metadata": {
            "tags": []
          },
          "execution_count": 12
        }
      ]
    },
    {
      "metadata": {
        "id": "dWviJHl7jNn0",
        "colab_type": "text"
      },
      "cell_type": "markdown",
      "source": [
        "### Asignación: Imprimir colaborador"
      ]
    },
    {
      "metadata": {
        "id": "ebdiFcpakGU6",
        "colab_type": "code",
        "colab": {
          "base_uri": "https://localhost:8080/",
          "height": 34
        },
        "outputId": "8bb99238-60f6-4b38-d60b-d92afe7d73cf"
      },
      "cell_type": "code",
      "source": [
        "print(colaborador)"
      ],
      "execution_count": 13,
      "outputs": [
        {
          "output_type": "stream",
          "text": [
            "{'edad': 45, 'puesto': 'CTO', 'cedula': '3-88-3093'}\n"
          ],
          "name": "stdout"
        }
      ]
    },
    {
      "metadata": {
        "id": "o9T2dJBokKRl",
        "colab_type": "text"
      },
      "cell_type": "markdown",
      "source": [
        "## Objetos y clases"
      ]
    },
    {
      "metadata": {
        "id": "9yCFdLAxkNLJ",
        "colab_type": "code",
        "outputId": "6fd1a4a6-2fc9-4f7a-b9db-2bd092492fbb",
        "colab": {
          "base_uri": "https://localhost:8080/",
          "height": 102
        }
      },
      "cell_type": "code",
      "source": [
        "# definimos una clase Bike\n",
        "class Bike:\n",
        "\n",
        "    def __init__(self, colour, frame_material):\n",
        "        self.colour = colour\n",
        "        self.frame_material = frame_material\n",
        "\n",
        "    def brake(self):\n",
        "        print(\"Braking!\")\n",
        "\n",
        "# creamos instancias\n",
        "red_bike = Bike('Red', 'Carbon fiber')\n",
        "blue_bike = Bike('Blue', 'Steel')\n",
        "\n",
        "# Verificamos que los objetos que tenenmos, sean instancias de la clase Bike\n",
        "print(red_bike.colour)  # prints: Red\n",
        "print(red_bike.frame_material)  # prints: Carbon fiber\n",
        "print(blue_bike.colour)  # prints: Blue\n",
        "print(blue_bike.frame_material)  # prints: Steel\n",
        "\n",
        "# let's brake!\n",
        "red_bike.brake()  # prints: Braking!\n"
      ],
      "execution_count": 0,
      "outputs": [
        {
          "output_type": "stream",
          "text": [
            "Red\n",
            "Carbon fiber\n",
            "Blue\n",
            "Steel\n",
            "Braking!\n"
          ],
          "name": "stdout"
        }
      ]
    },
    {
      "metadata": {
        "id": "SbxmG7emlSPN",
        "colab_type": "text"
      },
      "cell_type": "markdown",
      "source": [
        "## Tarea\n",
        "\n",
        "\n",
        "1.   Crear una cuenta en Github\n",
        "2. Crear un proyecto llamado \"FISC0746-estructuras-discretas-para-la-computacion\"\n",
        "2.   Subir este archivo en el proyecto\n",
        "3.  Enviar al correo (ezequiel.aguilar@utp.ac.pa) el usuario  de Github y la URL del proyecto\n",
        "\n"
      ]
    }
  ]
}