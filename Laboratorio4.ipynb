{
  "nbformat": 4,
  "nbformat_minor": 0,
  "metadata": {
    "colab": {
      "name": "Lab4",
      "version": "0.3.2",
      "provenance": [],
      "collapsed_sections": [],
      "include_colab_link": true
    },
    "kernelspec": {
      "name": "python3",
      "display_name": "Python 3"
    }
  },
  "cells": [
    {
      "cell_type": "markdown",
      "metadata": {
        "id": "view-in-github",
        "colab_type": "text"
      },
      "source": [
        "<a href=\"https://colab.research.google.com/github/marjoriedowns/FISC-0746-estructuras-discretas-para-la-computacion/blob/master/Laboratorio4.ipynb\" target=\"_parent\"><img src=\"https://colab.research.google.com/assets/colab-badge.svg\" alt=\"Open In Colab\"/></a>"
      ]
    },
    {
      "metadata": {
        "id": "-qvVWVxySgw3",
        "colab_type": "text"
      },
      "cell_type": "markdown",
      "source": [
        "Creacion de una lista"
      ]
    },
    {
      "metadata": {
        "id": "gMzvSKdFSlyG",
        "colab_type": "code",
        "colab": {}
      },
      "cell_type": "code",
      "source": [
        "c=[-14,2,15,98,13,3]"
      ],
      "execution_count": 0,
      "outputs": []
    },
    {
      "metadata": {
        "id": "b37fvb2zSzSv",
        "colab_type": "code",
        "outputId": "4c038d0c-388e-4053-b14c-f514f830024a",
        "colab": {
          "base_uri": "https://localhost:8080/",
          "height": 34
        }
      },
      "cell_type": "code",
      "source": [
        "c[0]"
      ],
      "execution_count": 12,
      "outputs": [
        {
          "output_type": "execute_result",
          "data": {
            "text/plain": [
              "-14"
            ]
          },
          "metadata": {
            "tags": []
          },
          "execution_count": 12
        }
      ]
    },
    {
      "metadata": {
        "id": "rykARuLMTPl_",
        "colab_type": "text"
      },
      "cell_type": "markdown",
      "source": [
        "Determinar la cantidad de elementos que tiene la lista"
      ]
    },
    {
      "metadata": {
        "id": "IYpBWl_XTVFO",
        "colab_type": "code",
        "outputId": "071164a0-cf15-4e27-a6cb-0a81500e0a10",
        "colab": {
          "base_uri": "https://localhost:8080/",
          "height": 34
        }
      },
      "cell_type": "code",
      "source": [
        "len(c)"
      ],
      "execution_count": 14,
      "outputs": [
        {
          "output_type": "execute_result",
          "data": {
            "text/plain": [
              "6"
            ]
          },
          "metadata": {
            "tags": []
          },
          "execution_count": 14
        }
      ]
    },
    {
      "metadata": {
        "id": "uBKRUE4dTZUW",
        "colab_type": "code",
        "outputId": "146cfc07-15b1-4d5b-abd3-42262343414d",
        "colab": {
          "base_uri": "https://localhost:8080/",
          "height": 34
        }
      },
      "cell_type": "code",
      "source": [
        "c"
      ],
      "execution_count": 15,
      "outputs": [
        {
          "output_type": "execute_result",
          "data": {
            "text/plain": [
              "[-14, 2, 15, 98, 13, 3]"
            ]
          },
          "metadata": {
            "tags": []
          },
          "execution_count": 15
        }
      ]
    },
    {
      "metadata": {
        "id": "ZbvbT2xuTdaw",
        "colab_type": "text"
      },
      "cell_type": "markdown",
      "source": [
        "Determinar el tipo de conjunto"
      ]
    },
    {
      "metadata": {
        "id": "XzLWqoiLTgH_",
        "colab_type": "code",
        "outputId": "8ba43061-e91e-4bda-e87a-72127fb00131",
        "colab": {
          "base_uri": "https://localhost:8080/",
          "height": 34
        }
      },
      "cell_type": "code",
      "source": [
        "type(c)"
      ],
      "execution_count": 16,
      "outputs": [
        {
          "output_type": "execute_result",
          "data": {
            "text/plain": [
              "list"
            ]
          },
          "metadata": {
            "tags": []
          },
          "execution_count": 16
        }
      ]
    },
    {
      "metadata": {
        "id": "6WVyjbLMTo3n",
        "colab_type": "text"
      },
      "cell_type": "markdown",
      "source": [
        "Tambien se puede usar -n en el indice"
      ]
    },
    {
      "metadata": {
        "id": "Bq5SnijcTuEw",
        "colab_type": "code",
        "outputId": "b5785114-e5fe-4399-c974-20ebba19813d",
        "colab": {
          "base_uri": "https://localhost:8080/",
          "height": 34
        }
      },
      "cell_type": "code",
      "source": [
        "c[-6]"
      ],
      "execution_count": 17,
      "outputs": [
        {
          "output_type": "execute_result",
          "data": {
            "text/plain": [
              "-14"
            ]
          },
          "metadata": {
            "tags": []
          },
          "execution_count": 17
        }
      ]
    },
    {
      "metadata": {
        "id": "Sct08Nm4T3Ho",
        "colab_type": "text"
      },
      "cell_type": "markdown",
      "source": [
        "Indice"
      ]
    },
    {
      "metadata": {
        "id": "VCbfmjphT5Vg",
        "colab_type": "code",
        "colab": {}
      },
      "cell_type": "code",
      "source": [
        "a=2"
      ],
      "execution_count": 0,
      "outputs": []
    },
    {
      "metadata": {
        "id": "2X45UkGmT5Xx",
        "colab_type": "code",
        "colab": {}
      },
      "cell_type": "code",
      "source": [
        "b=1"
      ],
      "execution_count": 0,
      "outputs": []
    },
    {
      "metadata": {
        "id": "n9ae4O3PUeqI",
        "colab_type": "text"
      },
      "cell_type": "markdown",
      "source": [
        "Otra funcion de las listas"
      ]
    },
    {
      "metadata": {
        "id": "sleJRoaXUhI_",
        "colab_type": "code",
        "colab": {}
      },
      "cell_type": "code",
      "source": [
        "Notas=[86,65,95,82,100]"
      ],
      "execution_count": 0,
      "outputs": []
    },
    {
      "metadata": {
        "id": "z83UK-TcUtc_",
        "colab_type": "code",
        "outputId": "9dd41b1a-6a69-4ca7-bfd4-2718524b047e",
        "colab": {
          "base_uri": "https://localhost:8080/",
          "height": 34
        }
      },
      "cell_type": "code",
      "source": [
        "sum(Notas)"
      ],
      "execution_count": 21,
      "outputs": [
        {
          "output_type": "execute_result",
          "data": {
            "text/plain": [
              "428"
            ]
          },
          "metadata": {
            "tags": []
          },
          "execution_count": 21
        }
      ]
    },
    {
      "metadata": {
        "id": "Yi_8yoKqUzzh",
        "colab_type": "code",
        "outputId": "f1b1fd3c-b8c0-41b2-c46e-2fd885790dfc",
        "colab": {
          "base_uri": "https://localhost:8080/",
          "height": 34
        }
      },
      "cell_type": "code",
      "source": [
        "len(Notas)"
      ],
      "execution_count": 22,
      "outputs": [
        {
          "output_type": "execute_result",
          "data": {
            "text/plain": [
              "5"
            ]
          },
          "metadata": {
            "tags": []
          },
          "execution_count": 22
        }
      ]
    },
    {
      "metadata": {
        "id": "2ipaWhkTU3KQ",
        "colab_type": "code",
        "colab": {}
      },
      "cell_type": "code",
      "source": [
        "avg=sum(Notas)/len(Notas)"
      ],
      "execution_count": 0,
      "outputs": []
    },
    {
      "metadata": {
        "id": "wbOTJNeUU_o_",
        "colab_type": "code",
        "outputId": "bfaf15c1-fba4-45a4-cba7-3a77d97288a4",
        "colab": {
          "base_uri": "https://localhost:8080/",
          "height": 34
        }
      },
      "cell_type": "code",
      "source": [
        "avg"
      ],
      "execution_count": 24,
      "outputs": [
        {
          "output_type": "execute_result",
          "data": {
            "text/plain": [
              "85.6"
            ]
          },
          "metadata": {
            "tags": []
          },
          "execution_count": 24
        }
      ]
    },
    {
      "metadata": {
        "id": "QJi3XJdNVCpI",
        "colab_type": "text"
      },
      "cell_type": "markdown",
      "source": [
        "**ASIGNACION**\n",
        "Suma de notas con For"
      ]
    },
    {
      "metadata": {
        "id": "Ieh8lMRSYI15",
        "colab_type": "code",
        "outputId": "18c6d0e6-42be-425a-cc1c-f9abf6ff6d6d",
        "colab": {
          "base_uri": "https://localhost:8080/",
          "height": 102
        }
      },
      "cell_type": "code",
      "source": [
        "i=0\n",
        "for i in Notas:\n",
        "  print(i)"
      ],
      "execution_count": 25,
      "outputs": [
        {
          "output_type": "stream",
          "text": [
            "86\n",
            "65\n",
            "95\n",
            "82\n",
            "100\n"
          ],
          "name": "stdout"
        }
      ]
    },
    {
      "metadata": {
        "id": "WU6bBUvdYXKw",
        "colab_type": "code",
        "outputId": "3fd940c9-1633-4b72-a5a1-e2513ed17d6b",
        "colab": {
          "base_uri": "https://localhost:8080/",
          "height": 34
        }
      },
      "cell_type": "code",
      "source": [
        "suma = 0\n",
        "i = 0\n",
        "for i in Notas:\n",
        "  suma+=i\n",
        "print(suma)"
      ],
      "execution_count": 26,
      "outputs": [
        {
          "output_type": "stream",
          "text": [
            "428\n"
          ],
          "name": "stdout"
        }
      ]
    },
    {
      "metadata": {
        "id": "KHVtYDVUbipA",
        "colab_type": "code",
        "outputId": "34eea9a9-3eb4-4632-a40b-e1589df8114d",
        "colab": {
          "base_uri": "https://localhost:8080/",
          "height": 34
        }
      },
      "cell_type": "code",
      "source": [
        "suma = 0\n",
        "prom = 0\n",
        "i = 0\n",
        "for i in Notas:\n",
        "  suma+=i\n",
        "prom = sum(Notas)/len(Notas)\n",
        "print(prom)"
      ],
      "execution_count": 27,
      "outputs": [
        {
          "output_type": "stream",
          "text": [
            "85.6\n"
          ],
          "name": "stdout"
        }
      ]
    },
    {
      "metadata": {
        "id": "xhVTufx1bx6I",
        "colab_type": "text"
      },
      "cell_type": "markdown",
      "source": [
        "Cambio de elementos"
      ]
    },
    {
      "metadata": {
        "id": "zqriqZ14b0I5",
        "colab_type": "code",
        "outputId": "6c49c9d6-3371-43e6-9f16-d92c2be5c44b",
        "colab": {
          "base_uri": "https://localhost:8080/",
          "height": 34
        }
      },
      "cell_type": "code",
      "source": [
        "Notas"
      ],
      "execution_count": 28,
      "outputs": [
        {
          "output_type": "execute_result",
          "data": {
            "text/plain": [
              "[86, 65, 95, 82, 100]"
            ]
          },
          "metadata": {
            "tags": []
          },
          "execution_count": 28
        }
      ]
    },
    {
      "metadata": {
        "id": "kY2qc8GTb7LT",
        "colab_type": "code",
        "colab": {}
      },
      "cell_type": "code",
      "source": [
        "Notas[2]= -45"
      ],
      "execution_count": 0,
      "outputs": []
    },
    {
      "metadata": {
        "id": "hCthfccXcGsI",
        "colab_type": "code",
        "outputId": "cf89ad1e-a39a-405a-e52e-ca932018982b",
        "colab": {
          "base_uri": "https://localhost:8080/",
          "height": 34
        }
      },
      "cell_type": "code",
      "source": [
        "Notas"
      ],
      "execution_count": 30,
      "outputs": [
        {
          "output_type": "execute_result",
          "data": {
            "text/plain": [
              "[86, 65, -45, 82, 100]"
            ]
          },
          "metadata": {
            "tags": []
          },
          "execution_count": 30
        }
      ]
    },
    {
      "metadata": {
        "id": "L5bbbRvkcKFo",
        "colab_type": "text"
      },
      "cell_type": "markdown",
      "source": [
        "Lista con palabras"
      ]
    },
    {
      "metadata": {
        "id": "Hxb120q4cP4r",
        "colab_type": "code",
        "colab": {}
      },
      "cell_type": "code",
      "source": [
        "s=\"hello\""
      ],
      "execution_count": 0,
      "outputs": []
    },
    {
      "metadata": {
        "id": "lvgWqRiZcUdZ",
        "colab_type": "code",
        "outputId": "4fa58770-e0a2-4117-8fe4-ea4f9d8e97ac",
        "colab": {
          "base_uri": "https://localhost:8080/",
          "height": 34
        }
      },
      "cell_type": "code",
      "source": [
        "s[0]"
      ],
      "execution_count": 32,
      "outputs": [
        {
          "output_type": "execute_result",
          "data": {
            "text/plain": [
              "'h'"
            ]
          },
          "metadata": {
            "tags": []
          },
          "execution_count": 32
        }
      ]
    },
    {
      "metadata": {
        "id": "X4wSGFEicZ-8",
        "colab_type": "text"
      },
      "cell_type": "markdown",
      "source": [
        "Suma de elementos especificos de una lista"
      ]
    },
    {
      "metadata": {
        "id": "_3sk61MWceCB",
        "colab_type": "code",
        "outputId": "4ddcbc10-5292-4131-ddd7-d3f5189f156e",
        "colab": {
          "base_uri": "https://localhost:8080/",
          "height": 34
        }
      },
      "cell_type": "code",
      "source": [
        "Notas[1]+Notas[2]+Notas[3]"
      ],
      "execution_count": 33,
      "outputs": [
        {
          "output_type": "execute_result",
          "data": {
            "text/plain": [
              "102"
            ]
          },
          "metadata": {
            "tags": []
          },
          "execution_count": 33
        }
      ]
    },
    {
      "metadata": {
        "id": "0Fy0FWbIcniB",
        "colab_type": "text"
      },
      "cell_type": "markdown",
      "source": [
        "Agregar elementos a la lista"
      ]
    },
    {
      "metadata": {
        "id": "kojK_oW7csEp",
        "colab_type": "code",
        "colab": {}
      },
      "cell_type": "code",
      "source": [
        "lista=[]"
      ],
      "execution_count": 0,
      "outputs": []
    },
    {
      "metadata": {
        "id": "EXBmKr-icw2S",
        "colab_type": "code",
        "colab": {}
      },
      "cell_type": "code",
      "source": [
        "for number in range(1,6):\n",
        "  lista+=[number]"
      ],
      "execution_count": 0,
      "outputs": []
    },
    {
      "metadata": {
        "id": "_mTBqGJSdAqp",
        "colab_type": "code",
        "outputId": "f2a703e1-7362-4e2f-b98d-219482ebe356",
        "colab": {
          "base_uri": "https://localhost:8080/",
          "height": 34
        }
      },
      "cell_type": "code",
      "source": [
        "lista"
      ],
      "execution_count": 36,
      "outputs": [
        {
          "output_type": "execute_result",
          "data": {
            "text/plain": [
              "[1, 2, 3, 4, 5]"
            ]
          },
          "metadata": {
            "tags": []
          },
          "execution_count": 36
        }
      ]
    },
    {
      "metadata": {
        "id": "6EkgVk1jd7-b",
        "colab_type": "text"
      },
      "cell_type": "markdown",
      "source": [
        "**ASIGNACION FINAL**"
      ]
    },
    {
      "metadata": {
        "id": "XD9s1yB-d_hy",
        "colab_type": "code",
        "colab": {}
      },
      "cell_type": "code",
      "source": [
        "altura=set([161,182,161,154,176,170,167,171,170,174])\n",
        "prom=0\n",
        "i=0"
      ],
      "execution_count": 0,
      "outputs": []
    },
    {
      "metadata": {
        "id": "J1hZ_8A7iety",
        "colab_type": "code",
        "outputId": "d233cd04-0ece-48d3-ff5f-93daac06de99",
        "colab": {
          "base_uri": "https://localhost:8080/",
          "height": 34
        }
      },
      "cell_type": "code",
      "source": [
        "sumat=0\n",
        "i=0\n",
        "prom=0\n",
        "for i in altura:\n",
        "  sumat+=i\n",
        "print(sumat)"
      ],
      "execution_count": 38,
      "outputs": [
        {
          "output_type": "stream",
          "text": [
            "1355\n"
          ],
          "name": "stdout"
        }
      ]
    },
    {
      "metadata": {
        "id": "pIAldVBxd3fh",
        "colab_type": "code",
        "colab": {
          "base_uri": "https://localhost:8080/",
          "height": 34
        },
        "outputId": "6bdde455-c4be-4baa-d027-e7abb593c474"
      },
      "cell_type": "code",
      "source": [
        "prom=sum(altura)/len(altura)\n",
        "prom"
      ],
      "execution_count": 39,
      "outputs": [
        {
          "output_type": "execute_result",
          "data": {
            "text/plain": [
              "169.375"
            ]
          },
          "metadata": {
            "tags": []
          },
          "execution_count": 39
        }
      ]
    }
  ]
}