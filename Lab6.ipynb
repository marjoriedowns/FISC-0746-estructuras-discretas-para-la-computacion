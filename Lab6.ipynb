{
  "nbformat": 4,
  "nbformat_minor": 0,
  "metadata": {
    "colab": {
      "name": "Lab6",
      "version": "0.3.2",
      "provenance": [],
      "include_colab_link": true
    },
    "kernelspec": {
      "name": "python3",
      "display_name": "Python 3"
    }
  },
  "cells": [
    {
      "cell_type": "markdown",
      "metadata": {
        "id": "view-in-github",
        "colab_type": "text"
      },
      "source": [
        "<a href=\"https://colab.research.google.com/github/marjoriedowns/FISC-0746-estructuras-discretas-para-la-computacion/blob/master/Lab6.ipynb\" target=\"_parent\"><img src=\"https://colab.research.google.com/assets/colab-badge.svg\" alt=\"Open In Colab\"/></a>"
      ]
    },
    {
      "cell_type": "markdown",
      "metadata": {
        "id": "DVu1cOZXbfee",
        "colab_type": "text"
      },
      "source": [
        "# Tarea 01:\n",
        "Escribir una función que tanga 2 parametros numérico y los multiplique"
      ]
    },
    {
      "cell_type": "code",
      "metadata": {
        "id": "Ksy0_cW1b_U8",
        "colab_type": "code",
        "colab": {}
      },
      "source": [
        "def multiplicacion(a,b):\n",
        "  return a*b"
      ],
      "execution_count": 0,
      "outputs": []
    },
    {
      "cell_type": "code",
      "metadata": {
        "id": "YtGZPLsXeP0U",
        "colab_type": "code",
        "colab": {
          "base_uri": "https://localhost:8080/",
          "height": 34
        },
        "outputId": "173e1b21-d13e-4eaf-844a-ccc7c4bdc05c"
      },
      "source": [
        "multiplicacion(2,4)"
      ],
      "execution_count": 15,
      "outputs": [
        {
          "output_type": "execute_result",
          "data": {
            "text/plain": [
              "8"
            ]
          },
          "metadata": {
            "tags": []
          },
          "execution_count": 15
        }
      ]
    },
    {
      "cell_type": "code",
      "metadata": {
        "id": "VFVUeaYxgqSk",
        "colab_type": "code",
        "colab": {
          "base_uri": "https://localhost:8080/",
          "height": 34
        },
        "outputId": "9b84cf9d-9107-4f27-df98-edab45a73330"
      },
      "source": [
        "num1=4\n",
        "num2=3\n",
        "multiplicacion(num1,num2)\n",
        "print(\"La multiplicacion de \"+str(num1)+\" y \"+str(num2)+\" es \"+str(multiplicacion(num1,num2)))"
      ],
      "execution_count": 16,
      "outputs": [
        {
          "output_type": "stream",
          "text": [
            "La multiplicacion de 4 y 3 es 12\n"
          ],
          "name": "stdout"
        }
      ]
    },
    {
      "cell_type": "markdown",
      "metadata": {
        "id": "FZu5UMiYgcLU",
        "colab_type": "text"
      },
      "source": [
        "# **Tarea 2**\n",
        "Escirbir una funcion que regrese el 7% de una compra.\n",
        "\n",
        "¿Cual es el total de la venta?"
      ]
    },
    {
      "cell_type": "code",
      "metadata": {
        "id": "_PxorJ96h1Dt",
        "colab_type": "code",
        "colab": {}
      },
      "source": [
        "def porcent(m):\n",
        "  return (m*0.07)"
      ],
      "execution_count": 0,
      "outputs": []
    },
    {
      "cell_type": "code",
      "metadata": {
        "id": "Z2t79fnVj1j9",
        "colab_type": "code",
        "colab": {
          "base_uri": "https://localhost:8080/",
          "height": 68
        },
        "outputId": "9a67178b-8d6f-4169-c486-c0774aa45cfc"
      },
      "source": [
        "producto=20.99\n",
        "preciot=porcent(producto)\n",
        "total= producto+preciot\n",
        "#print(preciot)\n",
        "print(\"El precio del producto \\t%.2f\\n El 7 porciento es \\t%.2f\\n El total de: \\t\\t%.2f\" %(producto,preciot,total))"
      ],
      "execution_count": 43,
      "outputs": [
        {
          "output_type": "stream",
          "text": [
            "El precio del producto \t20.99\n",
            " El 7 porciento es \t1.47\n",
            " El total de: \t\t22.46\n"
          ],
          "name": "stdout"
        }
      ]
    },
    {
      "cell_type": "markdown",
      "metadata": {
        "id": "ypAbjmCMpn4P",
        "colab_type": "text"
      },
      "source": [
        "# **Tarea 3**\n",
        "Preguntar si la persona es jubilada\n",
        "\n",
        "Si es jubilada aplicar el descuento (30%)\n",
        "\n",
        "Imprimir el total"
      ]
    },
    {
      "cell_type": "code",
      "metadata": {
        "id": "rs1Mwn2gsdN1",
        "colab_type": "code",
        "colab": {}
      },
      "source": [
        "es_jubilado=True"
      ],
      "execution_count": 0,
      "outputs": []
    },
    {
      "cell_type": "code",
      "metadata": {
        "id": "3gwP-VilshL9",
        "colab_type": "code",
        "colab": {
          "base_uri": "https://localhost:8080/",
          "height": 85
        },
        "outputId": "d505b6c5-fd82-4030-a9d8-02a515475824"
      },
      "source": [
        "precio=300\n",
        "precio2=(precio*(0.07))+precio\n",
        "print(\"Precio a pagar \"+str(precio))\n",
        "print(\"¿Es usted jubilado?\")\n",
        "if(es_jubilado==True):\n",
        "  print(\"Si\")\n",
        "  precio2=(precio2)-(precio2*0.30)\n",
        "  print(\"El total es de: %2.f\" %precio2)\n",
        "else:\n",
        "  print(\"No\")\n",
        "  print(\"El total es de: %2.f\"%precio2)"
      ],
      "execution_count": 55,
      "outputs": [
        {
          "output_type": "stream",
          "text": [
            "Precio a pagar 300\n",
            "¿Es usted jubilado?\n",
            "Si\n",
            "El total es de: 225\n"
          ],
          "name": "stdout"
        }
      ]
    }
  ]
}